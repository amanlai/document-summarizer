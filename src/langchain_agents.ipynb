{
 "cells": [
  {
   "cell_type": "markdown",
   "id": "bc48d34d",
   "metadata": {},
   "source": [
    "### Summarizing Using LangChain Agents"
   ]
  },
  {
   "cell_type": "code",
   "execution_count": 1,
   "id": "2fcc676e",
   "metadata": {},
   "outputs": [
    {
     "data": {
      "text/plain": [
       "True"
      ]
     },
     "execution_count": 1,
     "metadata": {},
     "output_type": "execute_result"
    }
   ],
   "source": [
    "from langchain.chat_models import ChatOpenAI\n",
    "from langchain import agents\n",
    "from langchain.utilities import WikipediaAPIWrapper\n",
    "from dotenv import load_dotenv, find_dotenv\n",
    "\n",
    "load_dotenv(find_dotenv(), override=True)"
   ]
  },
  {
   "cell_type": "code",
   "execution_count": 2,
   "id": "e6074b93",
   "metadata": {},
   "outputs": [],
   "source": [
    "llm = ChatOpenAI(temperature=0, model_name='gpt-3.5-turbo')\n",
    "wikipedia = WikipediaAPIWrapper()"
   ]
  },
  {
   "cell_type": "code",
   "execution_count": 3,
   "id": "e862b10d",
   "metadata": {
    "collapsed": true
   },
   "outputs": [
    {
     "name": "stdout",
     "output_type": "stream",
     "text": [
      "\n",
      "\n",
      "\u001b[1m> Entering new AgentExecutor chain...\u001b[0m\n",
      "\u001b[32;1m\u001b[1;3m\n",
      "Invoking: `Wikipedia` with `Junipero Serra`\n",
      "\n",
      "\n",
      "\u001b[0m\u001b[36;1m\u001b[1;3mPage: Junípero Serra\n",
      "Summary: Saint Junípero Serra y Ferrer  (; Spanish: [xuˈnipeɾo ˈsera]; Catalan: Juníper Serra i Ferrer; November 24, 1713 – August 28, 1784), popularly known simply as Junipero Serra, was a Spanish Catholic priest and missionary of the Franciscan Order. He is credited with establishing the Franciscan Missions in the Sierra Gorda, a UNESCO World Heritage Site. He founded a mission in Baja California and established eight  of the 21 Spanish missions in California from San Diego to San Francisco, in what was then Spanish-occupied Alta California in the Province of Las Californias, New Spain.\n",
      "Serra was beatified by Pope John Paul II on 25 September 1988 in Vatican City. Amid denunciations from Native American tribes who accused Serra of presiding over a brutal colonial subjugation, Pope Francis canonized Serra on 23 September 2015 at the Basilica of the National Shrine of the Immaculate Conception in Washington, D.C., during his first visit to the United States. Serra's missionary efforts earned him the title of \"Apostle of California\".Both before and after his canonization, Serra's reputation and missionary work during the Spanish occupation have been condemned by critics, who cite alleged mandatory conversions to Catholicism, followed by abuse of the Native American converts.\n",
      "\n",
      "\n",
      "\n",
      "Page: Junípero Serra High School (San Mateo, California)\n",
      "Summary: Junípero Serra High School (commonly Serra or JSHS) is a Catholic college preparatory high school in San Mateo, California, United States, serving students in grades 9–12. A part of the Roman Catholic Archdiocese of San Francisco, this school provides education for young men. The school has an academic focus with a college preparatory curriculum.\n",
      "\n",
      "Page: Junipero Serra Peak\n",
      "Summary: Junipero Serra Peak is the highest mountain in the Santa Lucia range of central California with a height of 1,785 metres (5,856 feet). It is also the highest peak in Monterey County, and is located within the boundaries of Los Padres National Forest. It is named after Saint Junípero Serra, the Spanish Franciscan priest who founded the California Missions in the 18th century. There is a fire lookout, with a tower and building, near the peak that was constructed around 1935. An unauthorized skiing operation on the summit was reported sometime before 1970. Good astronomical observing conditions were an early attraction to the peak. Astronomers scratched a trail to the summit in January 1880 to observe a total eclipse of the sun. Observations from the peak were also made on the transit of Venus in 1882.\u001b[0m\u001b[32;1m\u001b[1;3mJunípero Serra, also known as Saint Junípero Serra, was a Spanish Catholic priest and missionary of the Franciscan Order. He is credited with establishing the Franciscan Missions in the Sierra Gorda, a UNESCO World Heritage Site. Serra founded a mission in Baja California and established eight of the 21 Spanish missions in California from San Diego to San Francisco. He is known as the \"Apostle of California\" for his missionary efforts. Serra was beatified by Pope John Paul II in 1988 and canonized by Pope Francis in 2015. However, his reputation and missionary work have been criticized by some, who cite alleged mandatory conversions to Catholicism and abuse of Native American converts.\u001b[0m\n",
      "\n",
      "\u001b[1m> Finished chain.\u001b[0m\n"
     ]
    }
   ],
   "source": [
    "tools = [\n",
    "    agents.Tool(\n",
    "        name=\"Wikipedia\", \n",
    "        func=wikipedia.run,\n",
    "        description=\"summarize wikipedia posts on a single topic\"\n",
    "    )\n",
    "]\n",
    "\n",
    "agent_executor = agents.initialize_agent(\n",
    "    tools,\n",
    "    llm,\n",
    "    agent='openai-functions',\n",
    "    verbose=True\n",
    ")\n",
    "\n",
    "output = agent_executor.run('Provide a short summary of Junipero Serra.')"
   ]
  },
  {
   "cell_type": "code",
   "execution_count": 4,
   "id": "1635fab5",
   "metadata": {},
   "outputs": [
    {
     "name": "stdout",
     "output_type": "stream",
     "text": [
      "Junípero Serra, also known as Saint Junípero Serra, was a Spanish Catholic priest and missionary of the Franciscan Order. He is credited with establishing the Franciscan Missions in the Sierra Gorda, a UNESCO World Heritage Site. Serra founded a mission in Baja California and established eight of the 21 Spanish missions in California from San Diego to San Francisco. He is known as the \"Apostle of California\" for his missionary efforts. Serra was beatified by Pope John Paul II in 1988 and canonized by Pope Francis in 2015. However, his reputation and missionary work have been criticized by some, who cite alleged mandatory conversions to Catholicism and abuse of Native American converts.\n"
     ]
    }
   ],
   "source": [
    "print(output)"
   ]
  },
  {
   "cell_type": "code",
   "execution_count": null,
   "id": "1989ade4",
   "metadata": {},
   "outputs": [],
   "source": []
  }
 ],
 "metadata": {
  "kernelspec": {
   "display_name": "Python 3.9.12",
   "language": "python",
   "name": "python3"
  },
  "language_info": {
   "codemirror_mode": {
    "name": "ipython",
    "version": 3
   },
   "file_extension": ".py",
   "mimetype": "text/x-python",
   "name": "python",
   "nbconvert_exporter": "python",
   "pygments_lexer": "ipython3",
   "version": "3.9.12"
  }
 },
 "nbformat": 4,
 "nbformat_minor": 5
}
